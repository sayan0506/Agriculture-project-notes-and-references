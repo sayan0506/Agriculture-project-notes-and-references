{
  "nbformat": 4,
  "nbformat_minor": 0,
  "metadata": {
    "colab": {
      "name": "Potato Leaf Classifer without Augmentation.ipynb",
      "provenance": [],
      "collapsed_sections": [],
      "toc_visible": true,
      "authorship_tag": "ABX9TyN9cv7q9JSt4eQesqQkeOZS",
      "include_colab_link": true
    },
    "kernelspec": {
      "name": "python3",
      "display_name": "Python 3"
    },
    "language_info": {
      "name": "python"
    },
    "accelerator": "GPU"
  },
  "cells": [
    {
      "cell_type": "markdown",
      "metadata": {
        "id": "view-in-github",
        "colab_type": "text"
      },
      "source": [
        "<a href=\"https://colab.research.google.com/github/sayan0506/Agriculture-project-notes-and-references/blob/main/Potato_Leaf_Classifer_without_Augmentation.ipynb\" target=\"_parent\"><img src=\"https://colab.research.google.com/assets/colab-badge.svg\" alt=\"Open In Colab\"/></a>"
      ]
    },
    {
      "cell_type": "markdown",
      "metadata": {
        "id": "fym3rEpDZht4"
      },
      "source": [
        "# Potato Leaf Classifier with Augmentation\n"
      ]
    },
    {
      "cell_type": "markdown",
      "metadata": {
        "id": "EWl67OyRZdO8"
      },
      "source": [
        "# Import Modules"
      ]
    },
    {
      "cell_type": "code",
      "metadata": {
        "id": "AwMsWedJY9Im"
      },
      "source": [
        "import numpy as np\n",
        "import matplotlib.pyplot as plt\n",
        "import os\n",
        "import zipfile\n",
        "import pandas as pd\n",
        "import seaborn as sns\n",
        "\n",
        "import tensorflow as tf\n",
        "from keras.preprocessing.image import img_to_array"
      ],
      "execution_count": 105,
      "outputs": []
    },
    {
      "cell_type": "markdown",
      "metadata": {
        "id": "TvxBFovkc0tf"
      },
      "source": [
        "# Dataset Download\n",
        "\n",
        "Download **Plant Village dataset without augmentation** from the following\n",
        "\n",
        "Published in: **18-04-2019**\n",
        "\n",
        "[Plant_leaf_diseases_Mendeley_dataset](https://data.mendeley.com/datasets/tywbtsjrjv/1)\n"
      ]
    },
    {
      "cell_type": "code",
      "metadata": {
        "colab": {
          "base_uri": "https://localhost:8080/"
        },
        "id": "zveHGVN3gV5f",
        "outputId": "60853a2b-57b5-4c09-fd95-674b59ac3903"
      },
      "source": [
        "!wget https://data.mendeley.com/public-files/datasets/tywbtsjrjv/files/d5652a28-c1d8-4b76-97f3-72fb80f94efc/file_downloaded"
      ],
      "execution_count": null,
      "outputs": [
        {
          "output_type": "stream",
          "text": [
            "--2021-03-22 17:04:13--  https://data.mendeley.com/public-files/datasets/tywbtsjrjv/files/d5652a28-c1d8-4b76-97f3-72fb80f94efc/file_downloaded\n",
            "Resolving data.mendeley.com (data.mendeley.com)... 162.159.133.86, 162.159.130.86\n",
            "Connecting to data.mendeley.com (data.mendeley.com)|162.159.133.86|:443... connected.\n",
            "HTTP request sent, awaiting response... 302 Found\n",
            "Location: https://md-datasets-public-files-prod.s3.eu-west-1.amazonaws.com/d29ed9b2-8a5d-4663-8a82-c9174f2c7066 [following]\n",
            "--2021-03-22 17:04:14--  https://md-datasets-public-files-prod.s3.eu-west-1.amazonaws.com/d29ed9b2-8a5d-4663-8a82-c9174f2c7066\n",
            "Resolving md-datasets-public-files-prod.s3.eu-west-1.amazonaws.com (md-datasets-public-files-prod.s3.eu-west-1.amazonaws.com)... 52.218.30.216\n",
            "Connecting to md-datasets-public-files-prod.s3.eu-west-1.amazonaws.com (md-datasets-public-files-prod.s3.eu-west-1.amazonaws.com)|52.218.30.216|:443... connected.\n",
            "HTTP request sent, awaiting response... 200 OK\n",
            "Length: 868032562 (828M) [application/zip]\n",
            "Saving to: ‘file_downloaded’\n",
            "\n",
            "file_downloaded     100%[===================>] 827.82M  34.7MB/s    in 24s     \n",
            "\n",
            "2021-03-22 17:04:39 (33.8 MB/s) - ‘file_downloaded’ saved [868032562/868032562]\n",
            "\n"
          ],
          "name": "stdout"
        }
      ]
    },
    {
      "cell_type": "markdown",
      "metadata": {
        "id": "xWBUXJ4-osZW"
      },
      "source": [
        "## Unzipping"
      ]
    },
    {
      "cell_type": "code",
      "metadata": {
        "id": "TUnwKD3bmTFS"
      },
      "source": [
        "# content directory\n",
        "content_dir = '/content/Plant Village Original'\n",
        "\n",
        "# zip\n",
        "zip_file = '/content/file_downloaded' \n",
        "\n",
        "# 'Plant Village Original' directory to unzip\n",
        "if not os.path.isdir(content_dir):\n",
        "  os.mkdir(content_dir)\n",
        "\n",
        "# unzipping\n",
        "with zipfile.ZipFile(zip_file, 'r') as zip_ref:\n",
        "  zip_ref.extractall(content_dir)"
      ],
      "execution_count": null,
      "outputs": []
    },
    {
      "cell_type": "markdown",
      "metadata": {
        "id": "Wx60oAQpqsFk"
      },
      "source": [
        "# Data Inspection"
      ]
    },
    {
      "cell_type": "code",
      "metadata": {
        "id": "8mmtodxLtqPH"
      },
      "source": [
        "# image directory\n",
        "img_dir = \"/content/Plant Village Original/Plant_leave_diseases_dataset_without_augmentation\""
      ],
      "execution_count": null,
      "outputs": []
    },
    {
      "cell_type": "markdown",
      "metadata": {
        "id": "H6DVf7Gjs_by"
      },
      "source": [
        "Checking potato leaf samples category"
      ]
    },
    {
      "cell_type": "code",
      "metadata": {
        "colab": {
          "base_uri": "https://localhost:8080/"
        },
        "id": "F5R7acIRpz9e",
        "outputId": "17e5d4c8-59a6-46d1-bc14-9eabc604f1d6"
      },
      "source": [
        "# total classifiers\n",
        "classifiers_list = os.listdir(img_dir)\n",
        "print(f'TOtal Classifiers {len(classifiers_list)}\\n')\n",
        "for i in classifiers_list:\n",
        "  print(f'{i}')"
      ],
      "execution_count": null,
      "outputs": [
        {
          "output_type": "stream",
          "text": [
            "TOtal Classifiers 39\n",
            "\n",
            "Corn___Cercospora_leaf_spot Gray_leaf_spot\n",
            "Apple___Black_rot\n",
            "Grape___Leaf_blight_(Isariopsis_Leaf_Spot)\n",
            "Tomato___Late_blight\n",
            "Strawberry___Leaf_scorch\n",
            "Cherry___Powdery_mildew\n",
            "Peach___healthy\n",
            "Apple___Cedar_apple_rust\n",
            "Tomato___Tomato_Yellow_Leaf_Curl_Virus\n",
            "Tomato___Leaf_Mold\n",
            "Raspberry___healthy\n",
            "Potato___healthy\n",
            "Peach___Bacterial_spot\n",
            "Strawberry___healthy\n",
            "Orange___Haunglongbing_(Citrus_greening)\n",
            "Blueberry___healthy\n",
            "Tomato___Bacterial_spot\n",
            "Apple___Apple_scab\n",
            "Tomato___Target_Spot\n",
            "Tomato___Spider_mites Two-spotted_spider_mite\n",
            "Corn___healthy\n",
            "Cherry___healthy\n",
            "Grape___Esca_(Black_Measles)\n",
            "Potato___Late_blight\n",
            "Apple___healthy\n",
            "Squash___Powdery_mildew\n",
            "Pepper,_bell___healthy\n",
            "Grape___Black_rot\n",
            "Pepper,_bell___Bacterial_spot\n",
            "Corn___Northern_Leaf_Blight\n",
            "Tomato___Septoria_leaf_spot\n",
            "Potato___Early_blight\n",
            "Grape___healthy\n",
            "Tomato___healthy\n",
            "Soybean___healthy\n",
            "Tomato___Early_blight\n",
            "Tomato___Tomato_mosaic_virus\n",
            "Background_without_leaves\n",
            "Corn___Common_rust\n"
          ],
          "name": "stdout"
        }
      ]
    },
    {
      "cell_type": "markdown",
      "metadata": {
        "id": "uuIEXDrq54dL"
      },
      "source": [
        "## Potato Leaf Samples"
      ]
    },
    {
      "cell_type": "code",
      "metadata": {
        "colab": {
          "base_uri": "https://localhost:8080/"
        },
        "id": "0V5L3YRT-MWK",
        "outputId": "eeaf0e6c-51a4-4b48-9503-50446cfc362d"
      },
      "source": [
        "# Potato Disease Classifiers\n",
        "potato_classifiers = [disease for disease in classifiers_list if disease.split('_')[0] == 'Potato']\n",
        "print(f'Potato disease categories in the dataset\\n{potato__classifiers}')"
      ],
      "execution_count": null,
      "outputs": [
        {
          "output_type": "stream",
          "text": [
            "Potato disease categories in the dataset\n",
            "['Potato___healthy', 'Potato___Late_blight', 'Potato___Early_blight']\n"
          ],
          "name": "stdout"
        }
      ]
    },
    {
      "cell_type": "markdown",
      "metadata": {
        "id": "51TTS2iIN9TZ"
      },
      "source": [
        "Function for image to array conversion using keras  "
      ]
    },
    {
      "cell_type": "code",
      "metadata": {
        "id": "r83D0YjQOG4h"
      },
      "source": [
        "def convert_img_to_array(image_path):\n",
        "  try:\n",
        "    img = plt.imread(image_path)\n",
        "    if img is not None:\n",
        "      return img_to_array(img)\n",
        "    else:\n",
        "      return np.array([])\n",
        "  \n",
        "  except Exception as e:\n",
        "    print(f'Error {e}')\n",
        "    return None\n"
      ],
      "execution_count": null,
      "outputs": []
    },
    {
      "cell_type": "markdown",
      "metadata": {
        "id": "O8FdD7fOIaWE"
      },
      "source": [
        "Fetching Potato images for 3 classes"
      ]
    },
    {
      "cell_type": "code",
      "metadata": {
        "colab": {
          "base_uri": "https://localhost:8080/"
        },
        "id": "QPLQBHIdSbuG",
        "outputId": "ffa00916-4b94-43fb-afba-99c34086f2d0"
      },
      "source": [
        "# main image directory\n",
        "img_dir = \"/content/Plant Village Original/Plant_leave_diseases_dataset_without_augmentation\"\n",
        "potato_classifiers_path = [os.path.join(img_dir, disease) for disease in potato_classifiers]\n",
        "\n",
        "print(f'Image directory {img_dir}\\n')\n",
        "print(f'Potato directory names list {potato_classifiers_path}')"
      ],
      "execution_count": null,
      "outputs": [
        {
          "output_type": "stream",
          "text": [
            "Image directory /content/Plant Village Original/Plant_leave_diseases_dataset_without_augmentation\n",
            "\n",
            "Potato directory names list ['/content/Plant Village Original/Plant_leave_diseases_dataset_without_augmentation/Potato___healthy', '/content/Plant Village Original/Plant_leave_diseases_dataset_without_augmentation/Potato___Late_blight', '/content/Plant Village Original/Plant_leave_diseases_dataset_without_augmentation/Potato___Early_blight']\n"
          ],
          "name": "stdout"
        }
      ]
    },
    {
      "cell_type": "code",
      "metadata": {
        "colab": {
          "base_uri": "https://localhost:8080/"
        },
        "id": "j6-k0gBLEEMD",
        "outputId": "22af9799-b344-45a7-b91c-520eb7df7761"
      },
      "source": [
        "# image array list\n",
        "image_list = []\n",
        "# image labels list\n",
        "label_list = []\n",
        "# label_dataframe\n",
        "label_df = pd.DataFrame(columns=potato__classifiers)\n",
        "# image dataframe\n",
        "img_df = pd.DataFrame(columns=['Image', 'Shape', 'Label'])\n",
        "\n",
        "try:\n",
        "  print('[INFO] Loading images ...')\n",
        "  # total sample count\n",
        "  sample_count = 0\n",
        "  for sr, potato_disease_path in enumerate(potato_classifiers_path):\n",
        "    print(f'[INFO] Processing {potato_classifiers[sr]}')\n",
        "    sample_list = os.listdir(potato_disease_path)\n",
        "    #print(len(sample_list))\n",
        "    for disease_sample in sample_list:\n",
        "      # removing the .DS_store files from list, which contains the folder infos\n",
        "      if disease_sample == '.DS_store':\n",
        "        sample_list.remove(disease_sample)\n",
        "    # categorical count\n",
        "    count = 0\n",
        "    for disease_sample in sample_list:\n",
        "      disease_sample_path = os.path.join(potato_disease_path, disease_sample)\n",
        "      if disease_sample_path.endswith(\".jpg\") == True or disease_sample_path.endswith(\".JPG\") == True:\n",
        "        img = convert_img_to_array(disease_sample_path)\n",
        "        image_list.append(img)\n",
        "        label_list.append(potato_classifiers[sr])\n",
        "        img_df.loc[sample_count,'Image'], img_df.loc[sample_count,'Label'] = disease_sample, potato_classifiers[sr]\n",
        "        img_df.loc[sample_count,'Shape'] = img.shape\n",
        "        count += 1\n",
        "        sample_count += 1\n",
        "    label_df.loc[0, potato_classifiers[sr]] = count \n",
        "    \n",
        "except Exception as e:\n",
        "  print(f'Error {e}')"
      ],
      "execution_count": 118,
      "outputs": [
        {
          "output_type": "stream",
          "text": [
            "[INFO] Loading images ...\n",
            "[INFO] Processing Potato___healthy\n",
            "[INFO] Processing Potato___Late_blight\n",
            "[INFO] Processing Potato___Early_blight\n"
          ],
          "name": "stdout"
        }
      ]
    },
    {
      "cell_type": "code",
      "metadata": {
        "colab": {
          "base_uri": "https://localhost:8080/",
          "height": 141
        },
        "id": "hbjxMnJmENE9",
        "outputId": "49e7eff1-4af3-482a-f53b-b6a88d59ea4f"
      },
      "source": [
        "# Data loading check\n",
        "if len(image_list) == len(label_list):\n",
        "  print('Check Successful')\n",
        "  print(f'Total Potato Image samples {len(image_list)}\\n')\n",
        "  print('Label dataframe')\n",
        "  \n",
        "else:\n",
        "  print('Verify Dataloader')\n",
        "\n",
        "label_df"
      ],
      "execution_count": 103,
      "outputs": [
        {
          "output_type": "stream",
          "text": [
            "Check Successful\n",
            "Total Potato Image samples 2152\n",
            "\n",
            "Label dataframe\n"
          ],
          "name": "stdout"
        },
        {
          "output_type": "execute_result",
          "data": {
            "text/html": [
              "<div>\n",
              "<style scoped>\n",
              "    .dataframe tbody tr th:only-of-type {\n",
              "        vertical-align: middle;\n",
              "    }\n",
              "\n",
              "    .dataframe tbody tr th {\n",
              "        vertical-align: top;\n",
              "    }\n",
              "\n",
              "    .dataframe thead th {\n",
              "        text-align: right;\n",
              "    }\n",
              "</style>\n",
              "<table border=\"1\" class=\"dataframe\">\n",
              "  <thead>\n",
              "    <tr style=\"text-align: right;\">\n",
              "      <th></th>\n",
              "      <th>Potato___healthy</th>\n",
              "      <th>Potato___Late_blight</th>\n",
              "      <th>Potato___Early_blight</th>\n",
              "    </tr>\n",
              "  </thead>\n",
              "  <tbody>\n",
              "    <tr>\n",
              "      <th>0</th>\n",
              "      <td>152</td>\n",
              "      <td>1000</td>\n",
              "      <td>1000</td>\n",
              "    </tr>\n",
              "  </tbody>\n",
              "</table>\n",
              "</div>"
            ],
            "text/plain": [
              "  Potato___healthy Potato___Late_blight Potato___Early_blight\n",
              "0              152                 1000                  1000"
            ]
          },
          "metadata": {
            "tags": []
          },
          "execution_count": 103
        }
      ]
    },
    {
      "cell_type": "markdown",
      "metadata": {
        "id": "hI4xAXZJjQLK"
      },
      "source": [
        "## Target Analysis"
      ]
    },
    {
      "cell_type": "code",
      "metadata": {
        "colab": {
          "base_uri": "https://localhost:8080/",
          "height": 983
        },
        "id": "MZio53s8jPem",
        "outputId": "dc1db03e-806b-49da-9a8b-f484906d9c79"
      },
      "source": [
        "# target distribution visualize\n",
        "def distribution(counts_series):\n",
        "  plt.figure(figsize=(14,10))\n",
        "  sns.barplot(x = counts_series.index, y = counts_series.values, )\n",
        "  plt.title('Target Distribution without Augmentation', fontsize=14)\n",
        "\n",
        "# returns pandas series with classes as keys and count as values\n",
        "target_counts = img_df['Label'].value_counts()\n",
        "\n",
        "# shape analysis\n",
        "shape_counts = img_df['Shape'].value_counts()\n",
        "\n",
        "# visualize target\n",
        "target(target_counts)\n",
        "\n",
        "# visualize shapes\n",
        "target(shape_counts)"
      ],
      "execution_count": 128,
      "outputs": [
        {
          "output_type": "display_data",
          "data": {
            "image/png": "[encoded data removed]",
            "text/plain": [
              "<Figure size 720x576 with 1 Axes>"
            ]
          },
          "metadata": {
            "tags": [],
            "needs_background": "light"
          }
        },
        {
          "output_type": "display_data",
          "data": {
            "image/png": "[encoded data removed]",
            "text/plain": [
              "<Figure size 720x576 with 1 Axes>"
            ]
          },
          "metadata": {
            "tags": [],
            "needs_background": "light"
          }
        }
      ]
    },
    {
      "cell_type": "code",
      "metadata": {
        "id": "L4Es75JCe4l6"
      },
      "source": [
        "label_df.loc[0,potato_classifiers[sr]] = 1000"
      ],
      "execution_count": 85,
      "outputs": []
    },
    {
      "cell_type": "code",
      "metadata": {
        "id": "9V0b6btslkmZ"
      },
      "source": [
        ""
      ],
      "execution_count": null,
      "outputs": []
    }
  ]
}